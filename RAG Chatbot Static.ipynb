{
  "nbformat": 4,
  "nbformat_minor": 0,
  "metadata": {
    "colab": {
      "provenance": [],
      "toc_visible": true
    },
    "kernelspec": {
      "name": "python3",
      "display_name": "Python 3"
    },
    "language_info": {
      "name": "python"
    }
  },
  "cells": [
    {
      "cell_type": "markdown",
      "source": [
        "# **Chatbot RAG Sample Implementation**\n",
        "Chatbot training data already divide into 3 columns based on historical searching, techincal documentation, and Customer Service response data.\n",
        "\n",
        "**Data Overview:**\n",
        "*   **Context** - String\n",
        "*   **Question** - String\n",
        "*   **Answer** - String\n",
        "\n",
        "\n"
      ],
      "metadata": {
        "id": "UWaanmYD1ETf"
      }
    },
    {
      "cell_type": "markdown",
      "source": [
        "In this notebook, a model from ***sentence-transformers*** version ***paraphrase-MiniLM-L6-v2*** is used."
      ],
      "metadata": {
        "id": "8UaVzvHs_XdC"
      }
    },
    {
      "cell_type": "code",
      "execution_count": 1,
      "metadata": {
        "id": "xv2ZXS8Y08p2"
      },
      "outputs": [],
      "source": [
        "import pandas as pd"
      ]
    },
    {
      "cell_type": "code",
      "source": [
        "# Load the CSV file\n",
        "file_path = \"https://raw.githubusercontent.com/frfusch21/Manufacture-Otomotive-Analysis/refs/heads/main/Data/RAG_Chatbot_Training_Data.csv\"\n",
        "df = pd.read_csv(file_path)"
      ],
      "metadata": {
        "id": "sEGapPnF11er"
      },
      "execution_count": 2,
      "outputs": []
    },
    {
      "cell_type": "code",
      "source": [
        "df.head()"
      ],
      "metadata": {
        "colab": {
          "base_uri": "https://localhost:8080/",
          "height": 293
        },
        "id": "MoQoImhB2Dp4",
        "outputId": "0bac0d5f-0df0-460f-dbc2-f01674ef79a6"
      },
      "execution_count": 3,
      "outputs": [
        {
          "output_type": "execute_result",
          "data": {
            "text/plain": [
              "                               context  \\\n",
              "0  Manual pengguna motor X, halaman 13   \n",
              "1   Panduan teknis motor Y, halaman 61   \n",
              "2    Buku servis berkala Z, halaman 12   \n",
              "3  Modul pelatihan mekanik, halaman 93   \n",
              "4  Dokumen teknis pabrikan, halaman 79   \n",
              "\n",
              "                                      question  \\\n",
              "0          Bagaimana cara mengganti oli mesin?   \n",
              "1    Berapa tekanan angin ban yang disarankan?   \n",
              "2  Kapan waktu servis berkala harus dilakukan?   \n",
              "3                     Apa arti kode error E01?   \n",
              "4          Bagaimana prosedur pengecekan busi?   \n",
              "\n",
              "                                              answer  \n",
              "0  Ganti oli mesin dilakukan dengan membuka baut ...  \n",
              "1  Tekanan angin ban depan 29 psi dan belakang 33...  \n",
              "2  Servis berkala dilakukan setiap 3.000 km atau ...  \n",
              "3  E01 menunjukkan adanya gangguan pada sensor su...  \n",
              "4  Pengecekan busi dilakukan dengan mencabut busi...  "
            ],
            "text/html": [
              "\n",
              "  <div id=\"df-c5d3c4fb-527b-493e-8280-37b42d0e66c2\" class=\"colab-df-container\">\n",
              "    <div>\n",
              "<style scoped>\n",
              "    .dataframe tbody tr th:only-of-type {\n",
              "        vertical-align: middle;\n",
              "    }\n",
              "\n",
              "    .dataframe tbody tr th {\n",
              "        vertical-align: top;\n",
              "    }\n",
              "\n",
              "    .dataframe thead th {\n",
              "        text-align: right;\n",
              "    }\n",
              "</style>\n",
              "<table border=\"1\" class=\"dataframe\">\n",
              "  <thead>\n",
              "    <tr style=\"text-align: right;\">\n",
              "      <th></th>\n",
              "      <th>context</th>\n",
              "      <th>question</th>\n",
              "      <th>answer</th>\n",
              "    </tr>\n",
              "  </thead>\n",
              "  <tbody>\n",
              "    <tr>\n",
              "      <th>0</th>\n",
              "      <td>Manual pengguna motor X, halaman 13</td>\n",
              "      <td>Bagaimana cara mengganti oli mesin?</td>\n",
              "      <td>Ganti oli mesin dilakukan dengan membuka baut ...</td>\n",
              "    </tr>\n",
              "    <tr>\n",
              "      <th>1</th>\n",
              "      <td>Panduan teknis motor Y, halaman 61</td>\n",
              "      <td>Berapa tekanan angin ban yang disarankan?</td>\n",
              "      <td>Tekanan angin ban depan 29 psi dan belakang 33...</td>\n",
              "    </tr>\n",
              "    <tr>\n",
              "      <th>2</th>\n",
              "      <td>Buku servis berkala Z, halaman 12</td>\n",
              "      <td>Kapan waktu servis berkala harus dilakukan?</td>\n",
              "      <td>Servis berkala dilakukan setiap 3.000 km atau ...</td>\n",
              "    </tr>\n",
              "    <tr>\n",
              "      <th>3</th>\n",
              "      <td>Modul pelatihan mekanik, halaman 93</td>\n",
              "      <td>Apa arti kode error E01?</td>\n",
              "      <td>E01 menunjukkan adanya gangguan pada sensor su...</td>\n",
              "    </tr>\n",
              "    <tr>\n",
              "      <th>4</th>\n",
              "      <td>Dokumen teknis pabrikan, halaman 79</td>\n",
              "      <td>Bagaimana prosedur pengecekan busi?</td>\n",
              "      <td>Pengecekan busi dilakukan dengan mencabut busi...</td>\n",
              "    </tr>\n",
              "  </tbody>\n",
              "</table>\n",
              "</div>\n",
              "    <div class=\"colab-df-buttons\">\n",
              "\n",
              "  <div class=\"colab-df-container\">\n",
              "    <button class=\"colab-df-convert\" onclick=\"convertToInteractive('df-c5d3c4fb-527b-493e-8280-37b42d0e66c2')\"\n",
              "            title=\"Convert this dataframe to an interactive table.\"\n",
              "            style=\"display:none;\">\n",
              "\n",
              "  <svg xmlns=\"http://www.w3.org/2000/svg\" height=\"24px\" viewBox=\"0 -960 960 960\">\n",
              "    <path d=\"M120-120v-720h720v720H120Zm60-500h600v-160H180v160Zm220 220h160v-160H400v160Zm0 220h160v-160H400v160ZM180-400h160v-160H180v160Zm440 0h160v-160H620v160ZM180-180h160v-160H180v160Zm440 0h160v-160H620v160Z\"/>\n",
              "  </svg>\n",
              "    </button>\n",
              "\n",
              "  <style>\n",
              "    .colab-df-container {\n",
              "      display:flex;\n",
              "      gap: 12px;\n",
              "    }\n",
              "\n",
              "    .colab-df-convert {\n",
              "      background-color: #E8F0FE;\n",
              "      border: none;\n",
              "      border-radius: 50%;\n",
              "      cursor: pointer;\n",
              "      display: none;\n",
              "      fill: #1967D2;\n",
              "      height: 32px;\n",
              "      padding: 0 0 0 0;\n",
              "      width: 32px;\n",
              "    }\n",
              "\n",
              "    .colab-df-convert:hover {\n",
              "      background-color: #E2EBFA;\n",
              "      box-shadow: 0px 1px 2px rgba(60, 64, 67, 0.3), 0px 1px 3px 1px rgba(60, 64, 67, 0.15);\n",
              "      fill: #174EA6;\n",
              "    }\n",
              "\n",
              "    .colab-df-buttons div {\n",
              "      margin-bottom: 4px;\n",
              "    }\n",
              "\n",
              "    [theme=dark] .colab-df-convert {\n",
              "      background-color: #3B4455;\n",
              "      fill: #D2E3FC;\n",
              "    }\n",
              "\n",
              "    [theme=dark] .colab-df-convert:hover {\n",
              "      background-color: #434B5C;\n",
              "      box-shadow: 0px 1px 3px 1px rgba(0, 0, 0, 0.15);\n",
              "      filter: drop-shadow(0px 1px 2px rgba(0, 0, 0, 0.3));\n",
              "      fill: #FFFFFF;\n",
              "    }\n",
              "  </style>\n",
              "\n",
              "    <script>\n",
              "      const buttonEl =\n",
              "        document.querySelector('#df-c5d3c4fb-527b-493e-8280-37b42d0e66c2 button.colab-df-convert');\n",
              "      buttonEl.style.display =\n",
              "        google.colab.kernel.accessAllowed ? 'block' : 'none';\n",
              "\n",
              "      async function convertToInteractive(key) {\n",
              "        const element = document.querySelector('#df-c5d3c4fb-527b-493e-8280-37b42d0e66c2');\n",
              "        const dataTable =\n",
              "          await google.colab.kernel.invokeFunction('convertToInteractive',\n",
              "                                                    [key], {});\n",
              "        if (!dataTable) return;\n",
              "\n",
              "        const docLinkHtml = 'Like what you see? Visit the ' +\n",
              "          '<a target=\"_blank\" href=https://colab.research.google.com/notebooks/data_table.ipynb>data table notebook</a>'\n",
              "          + ' to learn more about interactive tables.';\n",
              "        element.innerHTML = '';\n",
              "        dataTable['output_type'] = 'display_data';\n",
              "        await google.colab.output.renderOutput(dataTable, element);\n",
              "        const docLink = document.createElement('div');\n",
              "        docLink.innerHTML = docLinkHtml;\n",
              "        element.appendChild(docLink);\n",
              "      }\n",
              "    </script>\n",
              "  </div>\n",
              "\n",
              "\n",
              "    <div id=\"df-0e55e542-be38-49bf-92f6-d77e87b7b91e\">\n",
              "      <button class=\"colab-df-quickchart\" onclick=\"quickchart('df-0e55e542-be38-49bf-92f6-d77e87b7b91e')\"\n",
              "                title=\"Suggest charts\"\n",
              "                style=\"display:none;\">\n",
              "\n",
              "<svg xmlns=\"http://www.w3.org/2000/svg\" height=\"24px\"viewBox=\"0 0 24 24\"\n",
              "     width=\"24px\">\n",
              "    <g>\n",
              "        <path d=\"M19 3H5c-1.1 0-2 .9-2 2v14c0 1.1.9 2 2 2h14c1.1 0 2-.9 2-2V5c0-1.1-.9-2-2-2zM9 17H7v-7h2v7zm4 0h-2V7h2v10zm4 0h-2v-4h2v4z\"/>\n",
              "    </g>\n",
              "</svg>\n",
              "      </button>\n",
              "\n",
              "<style>\n",
              "  .colab-df-quickchart {\n",
              "      --bg-color: #E8F0FE;\n",
              "      --fill-color: #1967D2;\n",
              "      --hover-bg-color: #E2EBFA;\n",
              "      --hover-fill-color: #174EA6;\n",
              "      --disabled-fill-color: #AAA;\n",
              "      --disabled-bg-color: #DDD;\n",
              "  }\n",
              "\n",
              "  [theme=dark] .colab-df-quickchart {\n",
              "      --bg-color: #3B4455;\n",
              "      --fill-color: #D2E3FC;\n",
              "      --hover-bg-color: #434B5C;\n",
              "      --hover-fill-color: #FFFFFF;\n",
              "      --disabled-bg-color: #3B4455;\n",
              "      --disabled-fill-color: #666;\n",
              "  }\n",
              "\n",
              "  .colab-df-quickchart {\n",
              "    background-color: var(--bg-color);\n",
              "    border: none;\n",
              "    border-radius: 50%;\n",
              "    cursor: pointer;\n",
              "    display: none;\n",
              "    fill: var(--fill-color);\n",
              "    height: 32px;\n",
              "    padding: 0;\n",
              "    width: 32px;\n",
              "  }\n",
              "\n",
              "  .colab-df-quickchart:hover {\n",
              "    background-color: var(--hover-bg-color);\n",
              "    box-shadow: 0 1px 2px rgba(60, 64, 67, 0.3), 0 1px 3px 1px rgba(60, 64, 67, 0.15);\n",
              "    fill: var(--button-hover-fill-color);\n",
              "  }\n",
              "\n",
              "  .colab-df-quickchart-complete:disabled,\n",
              "  .colab-df-quickchart-complete:disabled:hover {\n",
              "    background-color: var(--disabled-bg-color);\n",
              "    fill: var(--disabled-fill-color);\n",
              "    box-shadow: none;\n",
              "  }\n",
              "\n",
              "  .colab-df-spinner {\n",
              "    border: 2px solid var(--fill-color);\n",
              "    border-color: transparent;\n",
              "    border-bottom-color: var(--fill-color);\n",
              "    animation:\n",
              "      spin 1s steps(1) infinite;\n",
              "  }\n",
              "\n",
              "  @keyframes spin {\n",
              "    0% {\n",
              "      border-color: transparent;\n",
              "      border-bottom-color: var(--fill-color);\n",
              "      border-left-color: var(--fill-color);\n",
              "    }\n",
              "    20% {\n",
              "      border-color: transparent;\n",
              "      border-left-color: var(--fill-color);\n",
              "      border-top-color: var(--fill-color);\n",
              "    }\n",
              "    30% {\n",
              "      border-color: transparent;\n",
              "      border-left-color: var(--fill-color);\n",
              "      border-top-color: var(--fill-color);\n",
              "      border-right-color: var(--fill-color);\n",
              "    }\n",
              "    40% {\n",
              "      border-color: transparent;\n",
              "      border-right-color: var(--fill-color);\n",
              "      border-top-color: var(--fill-color);\n",
              "    }\n",
              "    60% {\n",
              "      border-color: transparent;\n",
              "      border-right-color: var(--fill-color);\n",
              "    }\n",
              "    80% {\n",
              "      border-color: transparent;\n",
              "      border-right-color: var(--fill-color);\n",
              "      border-bottom-color: var(--fill-color);\n",
              "    }\n",
              "    90% {\n",
              "      border-color: transparent;\n",
              "      border-bottom-color: var(--fill-color);\n",
              "    }\n",
              "  }\n",
              "</style>\n",
              "\n",
              "      <script>\n",
              "        async function quickchart(key) {\n",
              "          const quickchartButtonEl =\n",
              "            document.querySelector('#' + key + ' button');\n",
              "          quickchartButtonEl.disabled = true;  // To prevent multiple clicks.\n",
              "          quickchartButtonEl.classList.add('colab-df-spinner');\n",
              "          try {\n",
              "            const charts = await google.colab.kernel.invokeFunction(\n",
              "                'suggestCharts', [key], {});\n",
              "          } catch (error) {\n",
              "            console.error('Error during call to suggestCharts:', error);\n",
              "          }\n",
              "          quickchartButtonEl.classList.remove('colab-df-spinner');\n",
              "          quickchartButtonEl.classList.add('colab-df-quickchart-complete');\n",
              "        }\n",
              "        (() => {\n",
              "          let quickchartButtonEl =\n",
              "            document.querySelector('#df-0e55e542-be38-49bf-92f6-d77e87b7b91e button');\n",
              "          quickchartButtonEl.style.display =\n",
              "            google.colab.kernel.accessAllowed ? 'block' : 'none';\n",
              "        })();\n",
              "      </script>\n",
              "    </div>\n",
              "\n",
              "    </div>\n",
              "  </div>\n"
            ],
            "application/vnd.google.colaboratory.intrinsic+json": {
              "type": "dataframe",
              "variable_name": "df",
              "summary": "{\n  \"name\": \"df\",\n  \"rows\": 1000,\n  \"fields\": [\n    {\n      \"column\": \"context\",\n      \"properties\": {\n        \"dtype\": \"string\",\n        \"num_unique_values\": 635,\n        \"samples\": [\n          \"Modul pelatihan mekanik, halaman 35\",\n          \"Modul pelatihan mekanik, halaman 53\",\n          \"Dokumen teknis pabrikan, halaman 68\"\n        ],\n        \"semantic_type\": \"\",\n        \"description\": \"\"\n      }\n    },\n    {\n      \"column\": \"question\",\n      \"properties\": {\n        \"dtype\": \"category\",\n        \"num_unique_values\": 20,\n        \"samples\": [\n          \"Bagaimana cara mengganti oli mesin?\",\n          \"Bagaimana cara memeriksa suspensi depan?\",\n          \"Bagaimana cara mengecek aki motor?\"\n        ],\n        \"semantic_type\": \"\",\n        \"description\": \"\"\n      }\n    },\n    {\n      \"column\": \"answer\",\n      \"properties\": {\n        \"dtype\": \"category\",\n        \"num_unique_values\": 20,\n        \"samples\": [\n          \"Ganti oli mesin dilakukan dengan membuka baut pembuangan oli dan mengisi oli baru sesuai kapasitas.\",\n          \"Suspensi depan dicek dari kebocoran oli dan stabilitas saat ditekan.\",\n          \"Aki dicek dengan voltmeter atau melihat tanda lemah seperti starter tidak kuat.\"\n        ],\n        \"semantic_type\": \"\",\n        \"description\": \"\"\n      }\n    }\n  ]\n}"
            }
          },
          "metadata": {},
          "execution_count": 3
        }
      ]
    },
    {
      "cell_type": "code",
      "source": [
        "df.info()"
      ],
      "metadata": {
        "colab": {
          "base_uri": "https://localhost:8080/"
        },
        "id": "HAN1UrAS2FHD",
        "outputId": "39cbf873-a7c2-4a2a-88fc-1857f2acc80f"
      },
      "execution_count": 4,
      "outputs": [
        {
          "output_type": "stream",
          "name": "stdout",
          "text": [
            "<class 'pandas.core.frame.DataFrame'>\n",
            "RangeIndex: 1000 entries, 0 to 999\n",
            "Data columns (total 3 columns):\n",
            " #   Column    Non-Null Count  Dtype \n",
            "---  ------    --------------  ----- \n",
            " 0   context   1000 non-null   object\n",
            " 1   question  1000 non-null   object\n",
            " 2   answer    1000 non-null   object\n",
            "dtypes: object(3)\n",
            "memory usage: 23.6+ KB\n"
          ]
        }
      ]
    },
    {
      "cell_type": "code",
      "source": [
        "!pip install sentence-transformers"
      ],
      "metadata": {
        "id": "Z59V8xyX7XbF"
      },
      "execution_count": null,
      "outputs": []
    },
    {
      "cell_type": "code",
      "source": [
        "from sentence_transformers import SentenceTransformer, util"
      ],
      "metadata": {
        "id": "uPwvn1Yx2LX7"
      },
      "execution_count": 6,
      "outputs": []
    },
    {
      "cell_type": "code",
      "source": [
        "# Clean data and drop duplicates\n",
        "df[\"question_clean\"] = df[\"question\"].str.lower().str.strip()\n",
        "df_cleaned = df.drop_duplicates(subset=\"question_clean\", keep=\"first\").reset_index(drop=True)"
      ],
      "metadata": {
        "id": "UIpjgBaQ2N9D"
      },
      "execution_count": 7,
      "outputs": []
    },
    {
      "cell_type": "code",
      "source": [
        "# Load sentence-transformer model\n",
        "model = SentenceTransformer(\"paraphrase-MiniLM-L6-v2\")"
      ],
      "metadata": {
        "id": "WoCvztS48BMt"
      },
      "execution_count": null,
      "outputs": []
    },
    {
      "cell_type": "code",
      "source": [
        "corpus_embeddings = model.encode(df[\"question_clean\"].tolist(), convert_to_tensor=True)"
      ],
      "metadata": {
        "id": "FWRt6kWo2Qzo"
      },
      "execution_count": 9,
      "outputs": []
    },
    {
      "cell_type": "markdown",
      "source": [
        "**Cosine Similarity**\n"
      ],
      "metadata": {
        "id": "EXWlFx4ze3fT"
      }
    },
    {
      "cell_type": "markdown",
      "source": [
        "We implement semantic search using Cosine Similarity. We use Sentence Embeddings to convert both user queries and existing questions into vectors. By comparing these vectors using Cosine Similarity, we identify the most semantically similar question in the dataset, and return its associated answer"
      ],
      "metadata": {
        "id": "mkBZaA1OfeNu"
      }
    },
    {
      "cell_type": "markdown",
      "source": [
        "If you are not familiar with Cosine Similarity, please read here: [Cosine Similarity](https://en.wikipedia.org/wiki/Cosine_similarity)"
      ],
      "metadata": {
        "id": "i5XWzF1-fTCZ"
      }
    },
    {
      "cell_type": "markdown",
      "source": [
        "Also, if you are not familiar with Semantic Embedding, please read here: [Word Embedding](https://en.wikipedia.org/wiki/Word_embedding)"
      ],
      "metadata": {
        "id": "WOenIvAJfwlq"
      }
    },
    {
      "cell_type": "code",
      "source": [
        "# Function to fetch answer with similarity score\n",
        "def get_answer(user_query,  top_k=3):\n",
        "    query_embedding = model.encode(user_query.lower().strip(), convert_to_tensor=True)\n",
        "    similarity_scores = util.pytorch_cos_sim(query_embedding, corpus_embeddings)[0]\n",
        "    best_score, best_idx = similarity_scores.topk(k=1)\n",
        "    idx = int(best_idx[0])\n",
        "    context = df.iloc[idx][\"context\"]\n",
        "    answer = df.iloc[idx][\"answer\"]\n",
        "    question = df.iloc[idx][\"question\"]\n",
        "\n",
        "    response = f\"- Dari {context} untuk pertanyaan {question}. Dinyatakan {answer}\"\n",
        "    return response"
      ],
      "metadata": {
        "id": "DExMs0mN2Trs"
      },
      "execution_count": 23,
      "outputs": []
    },
    {
      "cell_type": "code",
      "source": [
        "# Execute App\n",
        "print(\"Hi disini chatbot! Ketik 'keluar' untuk mengakhiri sesi ini.\")\n",
        "while True:\n",
        "    user_input = input(\"\\n\\nPertanyaan: \")\n",
        "    if user_input.lower() == \"keluar\":\n",
        "        print(\"Chatbot: Sampai jumpa!\")\n",
        "        break\n",
        "    response = get_answer(user_input)\n",
        "    print(\"Jawaban Chatbot:\\n\" + response)"
      ],
      "metadata": {
        "colab": {
          "base_uri": "https://localhost:8080/"
        },
        "id": "wUw-xT4k2pFC",
        "outputId": "c53f0785-df65-437a-f715-0d7b185b3aab"
      },
      "execution_count": 26,
      "outputs": [
        {
          "output_type": "stream",
          "name": "stdout",
          "text": [
            "Hi disini chatbot! Ketik 'keluar' untuk mengakhiri sesi ini.\n",
            "\n",
            "\n",
            "Pertanyaan: kapan kita harus servis?\n",
            "Jawaban Chatbot:\n",
            "- Dari Buku servis berkala Z, halaman 12 untuk pertanyaan Kapan waktu servis berkala harus dilakukan?. Dinyatakan Servis berkala dilakukan setiap 3.000 km atau sesuai buku manual.\n",
            "\n",
            "\n",
            "Pertanyaan: kenapa mesin cepat panas?\n",
            "Jawaban Chatbot:\n",
            "- Dari Dokumentasi teknis suspensi, halaman 26 untuk pertanyaan Apa penyebab mesin cepat panas?. Dinyatakan Mesin panas bisa karena oli kurang, sistem pendingin bermasalah, atau beban berlebih.\n",
            "\n",
            "\n",
            "Pertanyaan: apa itu sistem injeksi?\n",
            "Jawaban Chatbot:\n",
            "- Dari Dokumentasi teknis suspensi, halaman 78 untuk pertanyaan Apa itu sistem injeksi bahan bakar?. Dinyatakan Sistem injeksi mengontrol bahan bakar secara elektronik untuk efisiensi.\n",
            "\n",
            "\n",
            "Pertanyaan: apa arti kode error E01?\n",
            "Jawaban Chatbot:\n",
            "- Dari Modul pelatihan mekanik, halaman 93 untuk pertanyaan Apa arti kode error E01?. Dinyatakan E01 menunjukkan adanya gangguan pada sensor suhu mesin.\n",
            "\n",
            "\n",
            "Pertanyaan: bagaimana cara cek suspensi?\n",
            "Jawaban Chatbot:\n",
            "- Dari Buku panduan sistem injeksi, halaman 52 untuk pertanyaan Bagaimana cara memeriksa suspensi depan?. Dinyatakan Suspensi depan dicek dari kebocoran oli dan stabilitas saat ditekan.\n",
            "\n",
            "\n",
            "Pertanyaan: cara cek aki\n",
            "Jawaban Chatbot:\n",
            "- Dari Petunjuk pemeliharaan harian, halaman 4 untuk pertanyaan Bagaimana cara mengecek aki motor?. Dinyatakan Aki dicek dengan voltmeter atau melihat tanda lemah seperti starter tidak kuat.\n",
            "\n",
            "\n",
            "Pertanyaan: Bagaimana prosedur pengecekan busi?\n",
            "Jawaban Chatbot:\n",
            "- Dari Dokumen teknis pabrikan, halaman 79 untuk pertanyaan Bagaimana prosedur pengecekan busi?. Dinyatakan Pengecekan busi dilakukan dengan mencabut busi dan memeriksa kondisi elektroda.\n",
            "\n",
            "\n",
            "Pertanyaan: kapasitas tanki bahan bakar\n",
            "Jawaban Chatbot:\n",
            "- Dari Instruksi keselamatan berkendara, halaman 39 untuk pertanyaan Berapa kapasitas tangki bahan bakar?. Dinyatakan Kapasitas tangki tergantung model, rata-rata antara 4-12 liter.\n",
            "\n",
            "\n",
            "Pertanyaan: keluar\n",
            "Chatbot: Sampai jumpa!\n"
          ]
        }
      ]
    },
    {
      "cell_type": "markdown",
      "source": [
        "# Conclusion and Suggestions"
      ],
      "metadata": {
        "id": "Oo9RVvqxet7M"
      }
    },
    {
      "cell_type": "markdown",
      "source": [
        "*   \tLimited variety makes it hard to match paraphrased or unexpected queries. The dataset sould be more vary especially with paraphrased questions and varied intents.\n",
        "*   Multiple rows have the same or near-identical questions and answers due to replicated attempt by me (I only have limited knowledge of otomotive world). In the future, this should be deduplicated or grouped into similar entries.\n",
        "*   This is only sample attempt at RAG without connecting to a language model (e.g., GPT, LLaMA) to generate responses from retrieved context which results in static retrieval and no actual \"generation\" or reasoning. In the future, this should be connected to a language model to return better result, preferably via API. (This would have to be private since there is API KEY involved)\n",
        "*   If no match is close enough, it still returns something (possibly irrelevant , one example is if we ask how to check \"Van Belt\" or \"Knalpot\", that is not available in the dataset).\tAdd a similarity threshold and fallback message like \"Maaf, saya tidak yakin.\"\n"
      ],
      "metadata": {
        "id": "-k055ECAgLlh"
      }
    }
  ]
}
